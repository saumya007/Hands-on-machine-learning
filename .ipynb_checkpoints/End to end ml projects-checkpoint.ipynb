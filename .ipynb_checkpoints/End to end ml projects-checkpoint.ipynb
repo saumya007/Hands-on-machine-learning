{
 "cells": [
  {
   "cell_type": "markdown",
   "metadata": {},
   "source": [
    "# End-End Machine learning projects\n",
    "\n",
    "- Pipelines : A sequence of data processing components is called data pipeline. \n",
    "- Multivariate regression: The system will use multiple features to make a prediction.\n",
    "- When a feature has a bell-shaped normal distribution (also called a Gaussian distribution), which is very com‐\n",
    "mon, the “68-95-99.7” rule applies: about 68% of the values fall within 1σ of the mean, 95% within 2σ, and 99.7% within 3σ.\n"
   ]
  },
  {
   "cell_type": "code",
   "execution_count": null,
   "metadata": {},
   "outputs": [],
   "source": [
    "## Set up for end to end machine learning projects"
   ]
  }
 ],
 "metadata": {
  "kernelspec": {
   "display_name": "Python 3",
   "language": "python",
   "name": "python3"
  },
  "language_info": {
   "codemirror_mode": {
    "name": "ipython",
    "version": 3
   },
   "file_extension": ".py",
   "mimetype": "text/x-python",
   "name": "python",
   "nbconvert_exporter": "python",
   "pygments_lexer": "ipython3",
   "version": "3.7.2"
  }
 },
 "nbformat": 4,
 "nbformat_minor": 2
}
